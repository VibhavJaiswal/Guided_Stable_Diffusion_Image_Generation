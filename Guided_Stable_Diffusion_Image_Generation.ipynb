{
 "cells": [
  {
   "cell_type": "markdown",
   "metadata": {
    "id": "sDn3Suk-risH"
   },
   "source": [
    "# __Transforming Images with Text Prompts Using the Stable Diffusion Pipeline__"
   ]
  },
  {
   "cell_type": "markdown",
   "metadata": {
    "id": "dGixsZ3ariYC"
   },
   "source": [
    "## __Problem Statement__\n",
    "Create a system using the Stable Diffusion model from the diffusers library to transform images based on textual prompts, including both positive and negative descriptors.\n",
    "\n",
    "The system should be capable of loading images from URLs or local paths and applying AI-driven modifications to these images, with a focus on adjusting various diffusion strengths to achieve different visual effects."
   ]
  },
  {
   "cell_type": "markdown",
   "metadata": {
    "id": "lJqOHEFm0asa"
   },
   "source": [
    "##**Steps to Perform:**\n",
    "\n",
    "- Step 1: Import Necessary Libraries\n",
    "- Step 2: Load Pretrained Model\n",
    "- Step 3: Define Helper Functions\n",
    "- Step 4: Load and Display Image\n",
    "- Step 5: Define Prompts and Transform Image\n",
    "- Step 6: Experiment with Different Diffusion Strengths"
   ]
  },
  {
   "cell_type": "markdown",
   "metadata": {
    "id": "1NsETQ_Kr3ee"
   },
   "source": [
    "### __Step 1: Import Necessary Libraries__\n",
    "\n",
    "- Import torch, requests, and Image from PIL for image processing and model loading\n",
    "- Import StableDiffusionDepth2ImgPipeline from diffusers for the depth-to-image pipeline\n",
    "\n",
    "**Note:**\n",
    "\n",
    "- Install the diffusers, transformers, scipy, ftfy, and accelerate libraries using pip\n",
    "- These libraries are essential for the image transformation process\n",
    "\n",
    "\n",
    "\n",
    "\n",
    "\n",
    "\n",
    "\n"
   ]
  },
  {
   "cell_type": "code",
   "execution_count": null,
   "metadata": {
    "colab": {
     "base_uri": "https://localhost:8080/"
    },
    "id": "FExs1jwRBMEn",
    "outputId": "a85ba28d-5aab-4f41-bfe2-f2e14f244fdf"
   },
   "outputs": [],
   "source": [
    "# Install necessary libraries\n",
    "#!pip install --quiet --upgrade diffusers transformers scipy ftfy\n",
    "#!pip install --quiet --upgrade accelerate"
   ]
  },
  {
   "cell_type": "code",
   "execution_count": null,
   "metadata": {
    "colab": {
     "base_uri": "https://localhost:8080/"
    },
    "id": "GvYkv-edTHIs",
    "outputId": "a797e0e6-4238-48ad-c23d-c267571b0583"
   },
   "outputs": [],
   "source": [
    "# pip install diffusers"
   ]
  },
  {
   "cell_type": "code",
   "execution_count": null,
   "metadata": {
    "id": "3kTGvO4DBVBw"
   },
   "outputs": [],
   "source": [
    "# Import necessary libraries\n",
    "import torch\n",
    "import requests\n",
    "from PIL import Image\n",
    "from diffusers import StableDiffusionDepth2ImgPipeline"
   ]
  },
  {
   "cell_type": "markdown",
   "metadata": {
    "id": "im89Lep6sQnE"
   },
   "source": [
    "### __Step 2: Load Pretrained Model__\n",
    "- Set the model ID for __stabilityai/stable-diffusion-2-depth__\n",
    "- Load the pretrained model using __StableDiffusionDepth2ImgPipeline.from_pretrained__ with the specified model ID and data type"
   ]
  },
  {
   "cell_type": "code",
   "execution_count": null,
   "metadata": {
    "colab": {
     "base_uri": "https://localhost:8080/",
     "height": 212,
     "referenced_widgets": [
      "cf7e6f79c9c5475a80eb0a8f8208844e",
      "7894c40e894f4c4cb841ae26047fc84c",
      "9eb0b0888ca846c587a2efbb36c68ff9",
      "db2fa284b5c945b387240706fa242db3",
      "211ebbe13dc1434fa8dc2301144a86f0",
      "de72eaee52254581a5c4389939fc921f",
      "9df46a28bb0745deac9fe6af99455f36",
      "c892bfd7273340e9a301d338316ab45f",
      "e5d5bb4b426647f6a3a90dd396b8bd36",
      "6e80bd0a8e71442ba1f5ff5a85a21700",
      "486eff8c719e46cdaabcccd129281b39"
     ]
    },
    "id": "yIdw5xmdBXEC",
    "outputId": "a8d7d2e6-1db8-4a1a-88a8-ffb9994e2780"
   },
   "outputs": [],
   "source": [
    "# Load pretrained model\n",
    "model_id = \"stabilityai/stable-diffusion-2-depth\"\n",
    "pipeline = StableDiffusionDepth2ImgPipeline.from_pretrained(model_id, torch_dtype=torch.float16)"
   ]
  },
  {
   "cell_type": "markdown",
   "metadata": {
    "id": "1Htl4MFxsh1Q"
   },
   "source": [
    "### __Step 3: Define Helper Functions__\n",
    "- Define __check_url__ to verify if a given string is a valid URL\n",
    "- Define __load_image__ to load an image from either a URL or a local file path"
   ]
  },
  {
   "cell_type": "code",
   "execution_count": null,
   "metadata": {
    "id": "1ennYu7QBZSY"
   },
   "outputs": [],
   "source": [
    "import urllib.parse as parse\n",
    "import os\n",
    "import requests\n",
    "\n",
    "# Function to check if a string is a URL\n",
    "def check_url(string):\n",
    "    try:\n",
    "        result = parse.urlparse(string)\n",
    "        return all([result.scheme, result.netloc, result.path])\n",
    "    except:\n",
    "        return False\n",
    "\n",
    "# Function to load an image from a URL or local path\n",
    "def load_image(image_path):\n",
    "    if check_url(image_path):\n",
    "        return Image.open(requests.get(image_path, stream=True).raw)\n",
    "    elif os.path.exists(image_path):\n",
    "        return Image.open(image_path)\n"
   ]
  },
  {
   "cell_type": "markdown",
   "metadata": {
    "id": "SNAhG5-es3NJ"
   },
   "source": [
    "### __Step 4: Load and Display Image__\n",
    "- Load an external image using its URL"
   ]
  },
  {
   "cell_type": "code",
   "execution_count": null,
   "metadata": {
    "id": "qmN8cHg5Bb99"
   },
   "outputs": [],
   "source": [
    "# Load image\n",
    "img = load_image(\"https://images.unsplash.com/photo-1465101162946-4377e57745c3?q=80&w=3878&auto=format&fit=crop&ixlib=rb-4.0.3&ixid=M3wxMjA3fDB8MHxwaG90by1wYWdlfHx8fGVufDB8fHx8fA%3D%3D\")\n",
    "\n",
    "#Display the image\n"
   ]
  },
  {
   "cell_type": "code",
   "execution_count": null,
   "metadata": {},
   "outputs": [],
   "source": []
  },
  {
   "cell_type": "markdown",
   "metadata": {
    "id": "wltp7bBqtCLi"
   },
   "source": [
    "### __Step 5: Define Prompts and Transform Image__\n",
    "- Define a positive prompt describing the desired transformation\n",
    "- Transform the image based on the positive prompt\n",
    "- Define a negative prompt to specify what should not be included in the transformed image\n",
    "- Transform the image using both positive and negative prompts\n"
   ]
  },
  {
   "cell_type": "code",
   "execution_count": null,
   "metadata": {
    "id": "GGHSK9bTCCTM"
   },
   "outputs": [],
   "source": [
    "# Define positive prompt\n",
    "prompt = \"A serene sunset over a calm lake\""
   ]
  },
  {
   "cell_type": "code",
   "execution_count": null,
   "metadata": {
    "id": "fTmi4TMdaNe0"
   },
   "outputs": [],
   "source": [
    "inf_step = 10"
   ]
  },
  {
   "cell_type": "markdown",
   "metadata": {
    "id": "x0pQTbVPWX1f"
   },
   "source": []
  },
  {
   "cell_type": "code",
   "execution_count": null,
   "metadata": {
    "id": "aVDu7PdnDE54"
   },
   "outputs": [],
   "source": [
    "# Generate transformed image\n",
    "transformed_img = pipeline(prompt=prompt, image=img, negative_prompt=None, num_inference_steps = inf_step).images[0]"
   ]
  },
  {
   "cell_type": "code",
   "execution_count": null,
   "metadata": {
    "colab": {
     "base_uri": "https://localhost:8080/",
     "height": 144
    },
    "id": "em_Z1QiaWjod",
    "outputId": "a39dc42e-d46c-409d-c60e-2ca503f83be4"
   },
   "outputs": [],
   "source": [
    "transformed_img"
   ]
  },
  {
   "cell_type": "code",
   "execution_count": null,
   "metadata": {
    "id": "v1l64PaDFhET"
   },
   "outputs": [],
   "source": [
    "# Define negative prompt\n",
    "n_prompt = \"no buildings, no people\"\n"
   ]
  },
  {
   "cell_type": "code",
   "execution_count": null,
   "metadata": {
    "id": "V-MU7ATWFmKw"
   },
   "outputs": [],
   "source": [
    "# Generate transformed image with negative prompt\n",
    "transformed_img = pipeline(prompt=prompt, image=img, negative_prompt=n_prompt, strength=0.7).images[0]"
   ]
  },
  {
   "cell_type": "markdown",
   "metadata": {
    "id": "7nunlFA5tdMu"
   },
   "source": [
    "### __Step 6: Experiment with Different Diffusion Strengths__\n",
    "- Loop through different values of diffusion strength\n",
    "- For each strength value, transform the image using the specified positive and negative prompts"
   ]
  },
  {
   "cell_type": "code",
   "execution_count": null,
   "metadata": {
    "id": "yL4lEK6VFvWL"
   },
   "outputs": [],
   "source": [
    "|# Generate transformed image with different diffusion strengths\n",
    "for strength in [0.1, 0.4, 1.0]:\n",
    "    transformed_img = pipeline(prompt=prompt, image=img, negative_prompt=n_prompt, strength=strength).images[0]"
   ]
  },
  {
   "cell_type": "markdown",
   "metadata": {
    "id": "EuRsrpv9t9zi"
   },
   "source": [
    "###**Conclusion**\n",
    "- The code demonstrates the use of a depth-to-image pipeline, suggesting that it can add depth or modify existing images based on the prompts provided.\n",
    "- It shows how to work with images from URLs and local paths, and how to apply AI-driven transformations to these images based on textual descriptions.\n",
    "- The final part of the code experiments with various strengths of transformation, offering a way to see how different levels of prompt influence change the resulting image."
   ]
  }
 ],
 "metadata": {
  "accelerator": "GPU",
  "colab": {
   "gpuType": "T4",
   "provenance": []
  },
  "kernelspec": {
   "display_name": "Python 3 (ipykernel)",
   "language": "python",
   "name": "python3"
  },
  "language_info": {
   "codemirror_mode": {
    "name": "ipython",
    "version": 3
   },
   "file_extension": ".py",
   "mimetype": "text/x-python",
   "name": "python",
   "nbconvert_exporter": "python",
   "pygments_lexer": "ipython3",
   "version": "3.12.4"
  },
  "widgets": {
   "application/vnd.jupyter.widget-state+json": {
    "211ebbe13dc1434fa8dc2301144a86f0": {
     "model_module": "@jupyter-widgets/base",
     "model_module_version": "1.2.0",
     "model_name": "LayoutModel",
     "state": {
      "_model_module": "@jupyter-widgets/base",
      "_model_module_version": "1.2.0",
      "_model_name": "LayoutModel",
      "_view_count": null,
      "_view_module": "@jupyter-widgets/base",
      "_view_module_version": "1.2.0",
      "_view_name": "LayoutView",
      "align_content": null,
      "align_items": null,
      "align_self": null,
      "border": null,
      "bottom": null,
      "display": null,
      "flex": null,
      "flex_flow": null,
      "grid_area": null,
      "grid_auto_columns": null,
      "grid_auto_flow": null,
      "grid_auto_rows": null,
      "grid_column": null,
      "grid_gap": null,
      "grid_row": null,
      "grid_template_areas": null,
      "grid_template_columns": null,
      "grid_template_rows": null,
      "height": null,
      "justify_content": null,
      "justify_items": null,
      "left": null,
      "margin": null,
      "max_height": null,
      "max_width": null,
      "min_height": null,
      "min_width": null,
      "object_fit": null,
      "object_position": null,
      "order": null,
      "overflow": null,
      "overflow_x": null,
      "overflow_y": null,
      "padding": null,
      "right": null,
      "top": null,
      "visibility": null,
      "width": null
     }
    },
    "486eff8c719e46cdaabcccd129281b39": {
     "model_module": "@jupyter-widgets/controls",
     "model_module_version": "1.5.0",
     "model_name": "DescriptionStyleModel",
     "state": {
      "_model_module": "@jupyter-widgets/controls",
      "_model_module_version": "1.5.0",
      "_model_name": "DescriptionStyleModel",
      "_view_count": null,
      "_view_module": "@jupyter-widgets/base",
      "_view_module_version": "1.2.0",
      "_view_name": "StyleView",
      "description_width": ""
     }
    },
    "6e80bd0a8e71442ba1f5ff5a85a21700": {
     "model_module": "@jupyter-widgets/base",
     "model_module_version": "1.2.0",
     "model_name": "LayoutModel",
     "state": {
      "_model_module": "@jupyter-widgets/base",
      "_model_module_version": "1.2.0",
      "_model_name": "LayoutModel",
      "_view_count": null,
      "_view_module": "@jupyter-widgets/base",
      "_view_module_version": "1.2.0",
      "_view_name": "LayoutView",
      "align_content": null,
      "align_items": null,
      "align_self": null,
      "border": null,
      "bottom": null,
      "display": null,
      "flex": null,
      "flex_flow": null,
      "grid_area": null,
      "grid_auto_columns": null,
      "grid_auto_flow": null,
      "grid_auto_rows": null,
      "grid_column": null,
      "grid_gap": null,
      "grid_row": null,
      "grid_template_areas": null,
      "grid_template_columns": null,
      "grid_template_rows": null,
      "height": null,
      "justify_content": null,
      "justify_items": null,
      "left": null,
      "margin": null,
      "max_height": null,
      "max_width": null,
      "min_height": null,
      "min_width": null,
      "object_fit": null,
      "object_position": null,
      "order": null,
      "overflow": null,
      "overflow_x": null,
      "overflow_y": null,
      "padding": null,
      "right": null,
      "top": null,
      "visibility": null,
      "width": null
     }
    },
    "7894c40e894f4c4cb841ae26047fc84c": {
     "model_module": "@jupyter-widgets/controls",
     "model_module_version": "1.5.0",
     "model_name": "HTMLModel",
     "state": {
      "_dom_classes": [],
      "_model_module": "@jupyter-widgets/controls",
      "_model_module_version": "1.5.0",
      "_model_name": "HTMLModel",
      "_view_count": null,
      "_view_module": "@jupyter-widgets/controls",
      "_view_module_version": "1.5.0",
      "_view_name": "HTMLView",
      "description": "",
      "description_tooltip": null,
      "layout": "IPY_MODEL_de72eaee52254581a5c4389939fc921f",
      "placeholder": "​",
      "style": "IPY_MODEL_9df46a28bb0745deac9fe6af99455f36",
      "value": "Loading pipeline components...: 100%"
     }
    },
    "9df46a28bb0745deac9fe6af99455f36": {
     "model_module": "@jupyter-widgets/controls",
     "model_module_version": "1.5.0",
     "model_name": "DescriptionStyleModel",
     "state": {
      "_model_module": "@jupyter-widgets/controls",
      "_model_module_version": "1.5.0",
      "_model_name": "DescriptionStyleModel",
      "_view_count": null,
      "_view_module": "@jupyter-widgets/base",
      "_view_module_version": "1.2.0",
      "_view_name": "StyleView",
      "description_width": ""
     }
    },
    "9eb0b0888ca846c587a2efbb36c68ff9": {
     "model_module": "@jupyter-widgets/controls",
     "model_module_version": "1.5.0",
     "model_name": "FloatProgressModel",
     "state": {
      "_dom_classes": [],
      "_model_module": "@jupyter-widgets/controls",
      "_model_module_version": "1.5.0",
      "_model_name": "FloatProgressModel",
      "_view_count": null,
      "_view_module": "@jupyter-widgets/controls",
      "_view_module_version": "1.5.0",
      "_view_name": "ProgressView",
      "bar_style": "success",
      "description": "",
      "description_tooltip": null,
      "layout": "IPY_MODEL_c892bfd7273340e9a301d338316ab45f",
      "max": 7,
      "min": 0,
      "orientation": "horizontal",
      "style": "IPY_MODEL_e5d5bb4b426647f6a3a90dd396b8bd36",
      "value": 7
     }
    },
    "c892bfd7273340e9a301d338316ab45f": {
     "model_module": "@jupyter-widgets/base",
     "model_module_version": "1.2.0",
     "model_name": "LayoutModel",
     "state": {
      "_model_module": "@jupyter-widgets/base",
      "_model_module_version": "1.2.0",
      "_model_name": "LayoutModel",
      "_view_count": null,
      "_view_module": "@jupyter-widgets/base",
      "_view_module_version": "1.2.0",
      "_view_name": "LayoutView",
      "align_content": null,
      "align_items": null,
      "align_self": null,
      "border": null,
      "bottom": null,
      "display": null,
      "flex": null,
      "flex_flow": null,
      "grid_area": null,
      "grid_auto_columns": null,
      "grid_auto_flow": null,
      "grid_auto_rows": null,
      "grid_column": null,
      "grid_gap": null,
      "grid_row": null,
      "grid_template_areas": null,
      "grid_template_columns": null,
      "grid_template_rows": null,
      "height": null,
      "justify_content": null,
      "justify_items": null,
      "left": null,
      "margin": null,
      "max_height": null,
      "max_width": null,
      "min_height": null,
      "min_width": null,
      "object_fit": null,
      "object_position": null,
      "order": null,
      "overflow": null,
      "overflow_x": null,
      "overflow_y": null,
      "padding": null,
      "right": null,
      "top": null,
      "visibility": null,
      "width": null
     }
    },
    "cf7e6f79c9c5475a80eb0a8f8208844e": {
     "model_module": "@jupyter-widgets/controls",
     "model_module_version": "1.5.0",
     "model_name": "HBoxModel",
     "state": {
      "_dom_classes": [],
      "_model_module": "@jupyter-widgets/controls",
      "_model_module_version": "1.5.0",
      "_model_name": "HBoxModel",
      "_view_count": null,
      "_view_module": "@jupyter-widgets/controls",
      "_view_module_version": "1.5.0",
      "_view_name": "HBoxView",
      "box_style": "",
      "children": [
       "IPY_MODEL_7894c40e894f4c4cb841ae26047fc84c",
       "IPY_MODEL_9eb0b0888ca846c587a2efbb36c68ff9",
       "IPY_MODEL_db2fa284b5c945b387240706fa242db3"
      ],
      "layout": "IPY_MODEL_211ebbe13dc1434fa8dc2301144a86f0"
     }
    },
    "db2fa284b5c945b387240706fa242db3": {
     "model_module": "@jupyter-widgets/controls",
     "model_module_version": "1.5.0",
     "model_name": "HTMLModel",
     "state": {
      "_dom_classes": [],
      "_model_module": "@jupyter-widgets/controls",
      "_model_module_version": "1.5.0",
      "_model_name": "HTMLModel",
      "_view_count": null,
      "_view_module": "@jupyter-widgets/controls",
      "_view_module_version": "1.5.0",
      "_view_name": "HTMLView",
      "description": "",
      "description_tooltip": null,
      "layout": "IPY_MODEL_6e80bd0a8e71442ba1f5ff5a85a21700",
      "placeholder": "​",
      "style": "IPY_MODEL_486eff8c719e46cdaabcccd129281b39",
      "value": " 7/7 [00:29&lt;00:00,  7.25s/it]"
     }
    },
    "de72eaee52254581a5c4389939fc921f": {
     "model_module": "@jupyter-widgets/base",
     "model_module_version": "1.2.0",
     "model_name": "LayoutModel",
     "state": {
      "_model_module": "@jupyter-widgets/base",
      "_model_module_version": "1.2.0",
      "_model_name": "LayoutModel",
      "_view_count": null,
      "_view_module": "@jupyter-widgets/base",
      "_view_module_version": "1.2.0",
      "_view_name": "LayoutView",
      "align_content": null,
      "align_items": null,
      "align_self": null,
      "border": null,
      "bottom": null,
      "display": null,
      "flex": null,
      "flex_flow": null,
      "grid_area": null,
      "grid_auto_columns": null,
      "grid_auto_flow": null,
      "grid_auto_rows": null,
      "grid_column": null,
      "grid_gap": null,
      "grid_row": null,
      "grid_template_areas": null,
      "grid_template_columns": null,
      "grid_template_rows": null,
      "height": null,
      "justify_content": null,
      "justify_items": null,
      "left": null,
      "margin": null,
      "max_height": null,
      "max_width": null,
      "min_height": null,
      "min_width": null,
      "object_fit": null,
      "object_position": null,
      "order": null,
      "overflow": null,
      "overflow_x": null,
      "overflow_y": null,
      "padding": null,
      "right": null,
      "top": null,
      "visibility": null,
      "width": null
     }
    },
    "e5d5bb4b426647f6a3a90dd396b8bd36": {
     "model_module": "@jupyter-widgets/controls",
     "model_module_version": "1.5.0",
     "model_name": "ProgressStyleModel",
     "state": {
      "_model_module": "@jupyter-widgets/controls",
      "_model_module_version": "1.5.0",
      "_model_name": "ProgressStyleModel",
      "_view_count": null,
      "_view_module": "@jupyter-widgets/base",
      "_view_module_version": "1.2.0",
      "_view_name": "StyleView",
      "bar_color": null,
      "description_width": ""
     }
    }
   }
  }
 },
 "nbformat": 4,
 "nbformat_minor": 4
}
